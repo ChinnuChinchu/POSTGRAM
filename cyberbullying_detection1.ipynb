{
 "cells": [
  {
   "cell_type": "code",
   "execution_count": 1,
   "metadata": {},
   "outputs": [
    {
     "name": "stdout",
     "output_type": "stream",
     "text": [
      "Translated text: You look like a monkey\n",
      "Predicted label: Bullying\n"
     ]
    }
   ],
   "source": [
    "from googletrans import Translator\n",
    "import pickle\n",
    "# Translate function\n",
    "def translate_to_english(text):\n",
    "    translator = Translator()\n",
    "    translated_text = translator.translate(text, dest='en')\n",
    "    return translated_text.text\n",
    "\n",
    "# Test the model with translated input\n",
    "text_to_translate = \"pareces un mono\"\n",
    "translated_text = translate_to_english(text_to_translate)\n",
    "print(\"Translated text:\", translated_text)\n",
    "\n",
    "# Load the trained pipeline from the file\n",
    "with open('pipeline.pkl', 'rb') as f:\n",
    "    tfidf_loaded, logistic_regression_loaded = pickle.load(f)\n",
    "    \n",
    "# Make predictions using the loaded pipeline\n",
    "X_input = [translated_text]\n",
    "X_input_tfidf = tfidf_loaded.transform(X_input)\n",
    "predicted_label = logistic_regression_loaded.predict(X_input_tfidf)\n",
    "\n",
    "print(\"Predicted label:\", predicted_label[0])"
   ]
  },
  {
   "cell_type": "code",
   "execution_count": 2,
   "metadata": {},
   "outputs": [
    {
     "name": "stdout",
     "output_type": "stream",
     "text": [
      "Translated text: You look like a monkey\n"
     ]
    }
   ],
   "source": [
    "from googletrans import Translator\n",
    "import pickle\n",
    "# Translate function\n",
    "def translate_to_english(text):\n",
    "    translator = Translator()\n",
    "    translated_text = translator.translate(text, dest='en')\n",
    "    return translated_text.text\n",
    "\n",
    "# Test the model with translated input\n",
    "text_to_translate = \"pareces un mono\"\n",
    "translated_text = translate_to_english(text_to_translate)\n",
    "print(\"Translated text:\", translated_text)"
   ]
  },
  {
   "cell_type": "code",
   "execution_count": null,
   "metadata": {},
   "outputs": [],
   "source": [
    "\n"
   ]
  }
 ],
 "metadata": {
  "kernelspec": {
   "display_name": "Python 3",
   "language": "python",
   "name": "python3"
  },
  "language_info": {
   "codemirror_mode": {
    "name": "ipython",
    "version": 3
   },
   "file_extension": ".py",
   "mimetype": "text/x-python",
   "name": "python",
   "nbconvert_exporter": "python",
   "pygments_lexer": "ipython3",
   "version": "3.10.12"
  }
 },
 "nbformat": 4,
 "nbformat_minor": 2
}
